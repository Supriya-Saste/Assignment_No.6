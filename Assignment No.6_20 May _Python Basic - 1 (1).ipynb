{
 "cells": [
  {
   "cell_type": "markdown",
   "id": "70b9ca6f",
   "metadata": {},
   "source": [
    "## Assignment No.6_20 May _Python Basic - 1"
   ]
  },
  {
   "cell_type": "markdown",
   "id": "390c0f43",
   "metadata": {},
   "source": [
    "### Q.1. What are keywords in python? Using the keyword library, print all the python keywords."
   ]
  },
  {
   "cell_type": "raw",
   "id": "3b526566",
   "metadata": {},
   "source": [
    "Ans:\n",
    "    Python keywords are reserved words that have specific meaning and purpose, \n",
    "    these keywords cannot be used for variable declaration."
   ]
  },
  {
   "cell_type": "code",
   "execution_count": 1,
   "id": "53c06b24",
   "metadata": {},
   "outputs": [],
   "source": [
    "import keyword\n",
    "s = keyword.kwlist"
   ]
  },
  {
   "cell_type": "code",
   "execution_count": 2,
   "id": "42de3e73",
   "metadata": {},
   "outputs": [
    {
     "data": {
      "text/plain": [
       "['False',\n",
       " 'None',\n",
       " 'True',\n",
       " 'and',\n",
       " 'as',\n",
       " 'assert',\n",
       " 'async',\n",
       " 'await',\n",
       " 'break',\n",
       " 'class',\n",
       " 'continue',\n",
       " 'def',\n",
       " 'del',\n",
       " 'elif',\n",
       " 'else',\n",
       " 'except',\n",
       " 'finally',\n",
       " 'for',\n",
       " 'from',\n",
       " 'global',\n",
       " 'if',\n",
       " 'import',\n",
       " 'in',\n",
       " 'is',\n",
       " 'lambda',\n",
       " 'nonlocal',\n",
       " 'not',\n",
       " 'or',\n",
       " 'pass',\n",
       " 'raise',\n",
       " 'return',\n",
       " 'try',\n",
       " 'while',\n",
       " 'with',\n",
       " 'yield']"
      ]
     },
     "execution_count": 2,
     "metadata": {},
     "output_type": "execute_result"
    }
   ],
   "source": [
    "s"
   ]
  },
  {
   "cell_type": "markdown",
   "id": "2358b994",
   "metadata": {},
   "source": [
    "### Q.2. What are the rules to create variables in python?"
   ]
  },
  {
   "cell_type": "markdown",
   "id": "70f0fc49",
   "metadata": {},
   "source": [
    "Ans:\n",
    "    1. A variable name must start with a letter or underscore.\n",
    "    2. Variable name can not start with number.\n",
    "    3. Variable name can only contain alphanumeric characters and underscores(A-z,0-9,_)\n",
    "    4. Variable names are case sensitive.\n",
    "    5. Python Keywords can not be used as variables."
   ]
  },
  {
   "cell_type": "markdown",
   "id": "a29e9f2d",
   "metadata": {},
   "source": [
    "### Q.3. What are the standards and conventions followed for the nomenclature of variables in python to improve code readability and maintainability?"
   ]
  },
  {
   "cell_type": "markdown",
   "id": "572e8e4c",
   "metadata": {},
   "source": [
    "Ans:\n",
    "    Naming Convention:\n",
    "    1.For function We should use the lowercase words or separate words by the underscore.\n",
    "    2.For variable declaration we should use a lowercase letter, words, or separate words to enhance the readability. \n",
    "    3. The first letter of class name should be capitalized; use camel case. Do not separate words with the underscore.\n",
    "    4. For method declaration we should use a lowercase letter, words, or separate words to enhance readability.\n",
    "    5. For constants we should use a short, uppercase letter, words, or separate words to enhance the readability.\n",
    "    6. For modules we should use a lowercase letter, words, or separate words to enhance the readability."
   ]
  },
  {
   "cell_type": "markdown",
   "id": "f15bc667",
   "metadata": {},
   "source": [
    "### Q.4. What will happen if a keyword is used as a variable name?"
   ]
  },
  {
   "cell_type": "markdown",
   "id": "0bd89ccb",
   "metadata": {},
   "source": [
    "Ans:\n",
    "    We'll get syntax error if we try to do that."
   ]
  },
  {
   "cell_type": "markdown",
   "id": "701dd237",
   "metadata": {},
   "source": [
    "### Q.5. For what purpose def keyword is used?"
   ]
  },
  {
   "cell_type": "markdown",
   "id": "647de429",
   "metadata": {},
   "source": [
    "Ans:\n",
    "    It is used for defining a user-defined function."
   ]
  },
  {
   "cell_type": "markdown",
   "id": "80c34a0d",
   "metadata": {},
   "source": [
    "### Q.6. What is the operation of this special character ‘\\’?"
   ]
  },
  {
   "cell_type": "markdown",
   "id": "5c80b378",
   "metadata": {},
   "source": [
    "In Python strings, the backslash \"\\\" is called \"escape\" character. \n",
    "It is used in representing certain whitespace characters: \"\\t\" is a tab, \"\\n\" is a newline, and \"\\r\" is a carriage return."
   ]
  },
  {
   "cell_type": "markdown",
   "id": "3f0c9185",
   "metadata": {},
   "source": [
    "### Q.7. Give an example of the following conditions:\n",
    "### (i) Homogeneous list\n",
    "### (ii) Heterogeneous set\n",
    "### (iii) Homogeneous tuple"
   ]
  },
  {
   "cell_type": "markdown",
   "id": "8e39fd8c",
   "metadata": {},
   "source": [
    "1. Homogenous List:\n",
    "    l = [12,23,34,56,78]\n",
    "    \n",
    "2. Heterogenous set:\n",
    "    s = {\"hello\", 100, True, 11.5}\n",
    "    \n",
    "3. Homogenous Tuple:\n",
    "    t = ('Ram', 'Sita', 'Laxman')"
   ]
  },
  {
   "cell_type": "markdown",
   "id": "c213ed36",
   "metadata": {},
   "source": [
    "### Q.8. Explain the mutable and immutable data types with proper explanation & examples."
   ]
  },
  {
   "cell_type": "code",
   "execution_count": null,
   "id": "aba69868",
   "metadata": {},
   "outputs": [],
   "source": [
    "Ans:\n",
    "    Mutable objects are those that allow you to change their value or data in place without affecting the object’s identity. \n",
    "    In contrast, immutable objects don’t allow this kind of operation. \n",
    "    \n",
    "    Python mutable data types:\n",
    "        Lists\n",
    "        Dictionaries\n",
    "        Sets\n",
    "        User-Defined Classes (It depends on the user to define the characteristics of the classes)\n",
    "    \n",
    "    Python immutable data types:\n",
    "\n",
    "        Numbers (Integer, Float, Complex, Decimal, Rational & Booleans)\n",
    "        Tuples\n",
    "        Strings\n",
    "        Frozen Sets\n",
    "        \n",
    "    Consider following Examples:"
   ]
  },
  {
   "cell_type": "code",
   "execution_count": 3,
   "id": "fc088027",
   "metadata": {},
   "outputs": [],
   "source": [
    "l = [11,22,33,44]\n",
    "l[3] = 1000"
   ]
  },
  {
   "cell_type": "code",
   "execution_count": 4,
   "id": "7c812cc6",
   "metadata": {},
   "outputs": [
    {
     "data": {
      "text/plain": [
       "[11, 22, 33, 1000]"
      ]
     },
     "execution_count": 4,
     "metadata": {},
     "output_type": "execute_result"
    }
   ],
   "source": [
    "l"
   ]
  },
  {
   "cell_type": "markdown",
   "id": "652304bd",
   "metadata": {},
   "source": [
    "Here, we are able to change last element of list as 1000. It means that list is mutable."
   ]
  },
  {
   "cell_type": "code",
   "execution_count": 5,
   "id": "5bcb48c2",
   "metadata": {},
   "outputs": [
    {
     "ename": "TypeError",
     "evalue": "'str' object does not support item assignment",
     "output_type": "error",
     "traceback": [
      "\u001b[1;31m---------------------------------------------------------------------------\u001b[0m",
      "\u001b[1;31mTypeError\u001b[0m                                 Traceback (most recent call last)",
      "\u001b[1;32m<ipython-input-5-1900a5a6c288>\u001b[0m in \u001b[0;36m<module>\u001b[1;34m\u001b[0m\n\u001b[0;32m      1\u001b[0m \u001b[0ms\u001b[0m \u001b[1;33m=\u001b[0m \u001b[1;34m\"Hello There\"\u001b[0m\u001b[1;33m\u001b[0m\u001b[1;33m\u001b[0m\u001b[0m\n\u001b[1;32m----> 2\u001b[1;33m \u001b[0ms\u001b[0m\u001b[1;33m[\u001b[0m\u001b[1;36m4\u001b[0m\u001b[1;33m]\u001b[0m \u001b[1;33m=\u001b[0m \u001b[1;34m'i'\u001b[0m\u001b[1;33m\u001b[0m\u001b[1;33m\u001b[0m\u001b[0m\n\u001b[0m",
      "\u001b[1;31mTypeError\u001b[0m: 'str' object does not support item assignment"
     ]
    }
   ],
   "source": [
    "s = \"Hello There\"\n",
    "s[4] = 'i'"
   ]
  },
  {
   "cell_type": "markdown",
   "id": "0750b69f",
   "metadata": {},
   "source": [
    "So, here if we try to change string, it throws TypeError. It means string is immutable datatype."
   ]
  },
  {
   "cell_type": "markdown",
   "id": "18fd0333",
   "metadata": {},
   "source": [
    "### Q.9. Write a code to create the given structure using only for loop."
   ]
  },
  {
   "cell_type": "markdown",
   "id": "8883d10a",
   "metadata": {},
   "source": [
    "              *\n",
    "             ***\n",
    "            *****\n",
    "           *******\n",
    "          *********"
   ]
  },
  {
   "cell_type": "code",
   "execution_count": 11,
   "id": "c21bf24c",
   "metadata": {},
   "outputs": [
    {
     "name": "stdout",
     "output_type": "stream",
     "text": [
      "                        *                         \n",
      "                       ***                        \n",
      "                      *****                       \n",
      "                     *******                      \n",
      "                    *********                     \n"
     ]
    }
   ],
   "source": [
    "n = 11\n",
    "for i in range (0, n):\n",
    "    if(i%2)!=0:\n",
    "        print(('*'*(i)).center(50,' '))"
   ]
  },
  {
   "cell_type": "markdown",
   "id": "de99d324",
   "metadata": {},
   "source": [
    "### Q.10. Write a code to create the given structure using while loop."
   ]
  },
  {
   "cell_type": "markdown",
   "id": "15bbcb45",
   "metadata": {},
   "source": [
    "        |||||||||\n",
    "         |||||||\n",
    "          |||||\n",
    "           |||\n",
    "            |"
   ]
  },
  {
   "cell_type": "code",
   "execution_count": 10,
   "id": "682e945e",
   "metadata": {},
   "outputs": [
    {
     "name": "stdout",
     "output_type": "stream",
     "text": [
      "                    |||||||||                     \n",
      "                     |||||||                      \n",
      "                      |||||                       \n",
      "                       |||                        \n",
      "                        |                         \n"
     ]
    }
   ],
   "source": [
    "i = 9\n",
    "n =1\n",
    "while i>=n:\n",
    "    if(i%2)!=0:\n",
    "        print((\"|\"*i).center(50, ' '))\n",
    "    i = i-1"
   ]
  }
 ],
 "metadata": {
  "kernelspec": {
   "display_name": "Python 3",
   "language": "python",
   "name": "python3"
  },
  "language_info": {
   "codemirror_mode": {
    "name": "ipython",
    "version": 3
   },
   "file_extension": ".py",
   "mimetype": "text/x-python",
   "name": "python",
   "nbconvert_exporter": "python",
   "pygments_lexer": "ipython3",
   "version": "3.8.8"
  }
 },
 "nbformat": 4,
 "nbformat_minor": 5
}
